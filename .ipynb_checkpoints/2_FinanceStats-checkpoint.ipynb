{
 "cells": [
  {
   "cell_type": "code",
   "execution_count": 28,
   "id": "f7c7efa5-cf5a-4597-9af6-04fe73ec26da",
   "metadata": {},
   "outputs": [],
   "source": [
    "import pandas as pd\n",
    "import numpy as np\n",
    "import scipy"
   ]
  },
  {
   "cell_type": "code",
   "execution_count": 2,
   "id": "d7a8fff3-81dd-4d9f-b856-3101467a3500",
   "metadata": {},
   "outputs": [
    {
     "data": {
      "text/html": [
       "<div>\n",
       "<style scoped>\n",
       "    .dataframe tbody tr th:only-of-type {\n",
       "        vertical-align: middle;\n",
       "    }\n",
       "\n",
       "    .dataframe tbody tr th {\n",
       "        vertical-align: top;\n",
       "    }\n",
       "\n",
       "    .dataframe thead th {\n",
       "        text-align: right;\n",
       "    }\n",
       "</style>\n",
       "<table border=\"1\" class=\"dataframe\">\n",
       "  <thead>\n",
       "    <tr style=\"text-align: right;\">\n",
       "      <th></th>\n",
       "      <th>Convertible Arbitrage</th>\n",
       "      <th>CTA Global</th>\n",
       "      <th>Distressed Securities</th>\n",
       "      <th>Emerging Markets</th>\n",
       "      <th>Equity Market Neutral</th>\n",
       "      <th>Event Driven</th>\n",
       "      <th>Fixed Income Arbitrage</th>\n",
       "      <th>Global Macro</th>\n",
       "      <th>Long/Short Equity</th>\n",
       "      <th>Merger Arbitrage</th>\n",
       "      <th>Relative Value</th>\n",
       "      <th>Short Selling</th>\n",
       "      <th>Funds Of Funds</th>\n",
       "    </tr>\n",
       "    <tr>\n",
       "      <th>date</th>\n",
       "      <th></th>\n",
       "      <th></th>\n",
       "      <th></th>\n",
       "      <th></th>\n",
       "      <th></th>\n",
       "      <th></th>\n",
       "      <th></th>\n",
       "      <th></th>\n",
       "      <th></th>\n",
       "      <th></th>\n",
       "      <th></th>\n",
       "      <th></th>\n",
       "      <th></th>\n",
       "    </tr>\n",
       "  </thead>\n",
       "  <tbody>\n",
       "    <tr>\n",
       "      <th>1997-01</th>\n",
       "      <td>0.0119</td>\n",
       "      <td>0.0393</td>\n",
       "      <td>0.0178</td>\n",
       "      <td>0.0791</td>\n",
       "      <td>0.0189</td>\n",
       "      <td>0.0213</td>\n",
       "      <td>0.0191</td>\n",
       "      <td>0.0573</td>\n",
       "      <td>0.0281</td>\n",
       "      <td>0.0150</td>\n",
       "      <td>0.0180</td>\n",
       "      <td>-0.0166</td>\n",
       "      <td>0.0317</td>\n",
       "    </tr>\n",
       "    <tr>\n",
       "      <th>1997-02</th>\n",
       "      <td>0.0123</td>\n",
       "      <td>0.0298</td>\n",
       "      <td>0.0122</td>\n",
       "      <td>0.0525</td>\n",
       "      <td>0.0101</td>\n",
       "      <td>0.0084</td>\n",
       "      <td>0.0122</td>\n",
       "      <td>0.0175</td>\n",
       "      <td>-0.0006</td>\n",
       "      <td>0.0034</td>\n",
       "      <td>0.0118</td>\n",
       "      <td>0.0426</td>\n",
       "      <td>0.0106</td>\n",
       "    </tr>\n",
       "    <tr>\n",
       "      <th>1997-03</th>\n",
       "      <td>0.0078</td>\n",
       "      <td>-0.0021</td>\n",
       "      <td>-0.0012</td>\n",
       "      <td>-0.0120</td>\n",
       "      <td>0.0016</td>\n",
       "      <td>-0.0023</td>\n",
       "      <td>0.0109</td>\n",
       "      <td>-0.0119</td>\n",
       "      <td>-0.0084</td>\n",
       "      <td>0.0060</td>\n",
       "      <td>0.0010</td>\n",
       "      <td>0.0778</td>\n",
       "      <td>-0.0077</td>\n",
       "    </tr>\n",
       "    <tr>\n",
       "      <th>1997-04</th>\n",
       "      <td>0.0086</td>\n",
       "      <td>-0.0170</td>\n",
       "      <td>0.0030</td>\n",
       "      <td>0.0119</td>\n",
       "      <td>0.0119</td>\n",
       "      <td>-0.0005</td>\n",
       "      <td>0.0130</td>\n",
       "      <td>0.0172</td>\n",
       "      <td>0.0084</td>\n",
       "      <td>-0.0001</td>\n",
       "      <td>0.0122</td>\n",
       "      <td>-0.0129</td>\n",
       "      <td>0.0009</td>\n",
       "    </tr>\n",
       "    <tr>\n",
       "      <th>1997-05</th>\n",
       "      <td>0.0156</td>\n",
       "      <td>-0.0015</td>\n",
       "      <td>0.0233</td>\n",
       "      <td>0.0315</td>\n",
       "      <td>0.0189</td>\n",
       "      <td>0.0346</td>\n",
       "      <td>0.0118</td>\n",
       "      <td>0.0108</td>\n",
       "      <td>0.0394</td>\n",
       "      <td>0.0197</td>\n",
       "      <td>0.0173</td>\n",
       "      <td>-0.0737</td>\n",
       "      <td>0.0275</td>\n",
       "    </tr>\n",
       "  </tbody>\n",
       "</table>\n",
       "</div>"
      ],
      "text/plain": [
       "         Convertible Arbitrage  CTA Global  Distressed Securities  \\\n",
       "date                                                                \n",
       "1997-01                 0.0119      0.0393                 0.0178   \n",
       "1997-02                 0.0123      0.0298                 0.0122   \n",
       "1997-03                 0.0078     -0.0021                -0.0012   \n",
       "1997-04                 0.0086     -0.0170                 0.0030   \n",
       "1997-05                 0.0156     -0.0015                 0.0233   \n",
       "\n",
       "         Emerging Markets  Equity Market Neutral  Event Driven  \\\n",
       "date                                                             \n",
       "1997-01            0.0791                 0.0189        0.0213   \n",
       "1997-02            0.0525                 0.0101        0.0084   \n",
       "1997-03           -0.0120                 0.0016       -0.0023   \n",
       "1997-04            0.0119                 0.0119       -0.0005   \n",
       "1997-05            0.0315                 0.0189        0.0346   \n",
       "\n",
       "         Fixed Income Arbitrage  Global Macro  Long/Short Equity  \\\n",
       "date                                                               \n",
       "1997-01                  0.0191        0.0573             0.0281   \n",
       "1997-02                  0.0122        0.0175            -0.0006   \n",
       "1997-03                  0.0109       -0.0119            -0.0084   \n",
       "1997-04                  0.0130        0.0172             0.0084   \n",
       "1997-05                  0.0118        0.0108             0.0394   \n",
       "\n",
       "         Merger Arbitrage  Relative Value  Short Selling  Funds Of Funds  \n",
       "date                                                                      \n",
       "1997-01            0.0150          0.0180        -0.0166          0.0317  \n",
       "1997-02            0.0034          0.0118         0.0426          0.0106  \n",
       "1997-03            0.0060          0.0010         0.0778         -0.0077  \n",
       "1997-04           -0.0001          0.0122        -0.0129          0.0009  \n",
       "1997-05            0.0197          0.0173        -0.0737          0.0275  "
      ]
     },
     "execution_count": 2,
     "metadata": {},
     "output_type": "execute_result"
    }
   ],
   "source": [
    "data = pd.read_csv(\"data/edhec-hedgefundindices.csv\", index_col=0, header=0)\n",
    "data.index = pd.to_datetime(data.index, format=\"%d/%m/%Y\")\n",
    "data /= 100\n",
    "data.index = data.index.to_period(\"M\")\n",
    "data.head()"
   ]
  },
  {
   "cell_type": "markdown",
   "id": "28c73c39-1766-4655-ac6a-5005f52b590a",
   "metadata": {},
   "source": [
    "# Skewness"
   ]
  },
  {
   "cell_type": "code",
   "execution_count": 3,
   "id": "962da589-ab99-4c36-b504-e789ac55afb0",
   "metadata": {},
   "outputs": [
    {
     "data": {
      "text/plain": [
       "array([-2.63959223,  0.17369864, -1.30084204, -1.16706749, -2.12443538,\n",
       "       -1.40915356, -3.94032029,  0.98292188, -0.39022677, -1.32008333,\n",
       "       -1.81546975,  0.76797484, -0.36178308])"
      ]
     },
     "execution_count": 3,
     "metadata": {},
     "output_type": "execute_result"
    }
   ],
   "source": [
    "scipy.stats.skew(data, axis=0)"
   ]
  },
  {
   "cell_type": "code",
   "execution_count": 4,
   "id": "e5a68edc-de86-473d-b796-d2c138eac6e3",
   "metadata": {},
   "outputs": [],
   "source": [
    "def skewness_calc(data):\n",
    "    error = data - data.mean()\n",
    "    numerator = (error**3).mean()\n",
    "    volatility = data.std(ddof=0)\n",
    "    return numerator/volatility**3"
   ]
  },
  {
   "cell_type": "code",
   "execution_count": 5,
   "id": "3b5f2a43-40ac-42c1-bcf6-870000cbf48d",
   "metadata": {},
   "outputs": [
    {
     "data": {
      "text/plain": [
       "Convertible Arbitrage    -2.639592\n",
       "CTA Global                0.173699\n",
       "Distressed Securities    -1.300842\n",
       "Emerging Markets         -1.167067\n",
       "Equity Market Neutral    -2.124435\n",
       "Event Driven             -1.409154\n",
       "Fixed Income Arbitrage   -3.940320\n",
       "Global Macro              0.982922\n",
       "Long/Short Equity        -0.390227\n",
       "Merger Arbitrage         -1.320083\n",
       "Relative Value           -1.815470\n",
       "Short Selling             0.767975\n",
       "Funds Of Funds           -0.361783\n",
       "dtype: float64"
      ]
     },
     "execution_count": 5,
     "metadata": {},
     "output_type": "execute_result"
    }
   ],
   "source": [
    "S = skewness_calc(data)\n",
    "S"
   ]
  },
  {
   "cell_type": "code",
   "execution_count": 6,
   "id": "6cfcb763-21dc-4c6d-8235-0bcc8df0182b",
   "metadata": {},
   "outputs": [
    {
     "data": {
      "text/plain": [
       "array([-2.63959223,  0.17369864, -1.30084204, -1.16706749, -2.12443538,\n",
       "       -1.40915356, -3.94032029,  0.98292188, -0.39022677, -1.32008333,\n",
       "       -1.81546975,  0.76797484, -0.36178308])"
      ]
     },
     "execution_count": 6,
     "metadata": {},
     "output_type": "execute_result"
    }
   ],
   "source": [
    "scipy.stats.skew(data)"
   ]
  },
  {
   "cell_type": "markdown",
   "id": "cd1515a2-a80f-4519-8369-3c0f8e9e666b",
   "metadata": {},
   "source": [
    "# Kurtosis"
   ]
  },
  {
   "cell_type": "code",
   "execution_count": 7,
   "id": "e9e95c5a-91ab-46c6-86a6-c5a9398297a2",
   "metadata": {},
   "outputs": [],
   "source": [
    "def kurtosis_calc(data):\n",
    "    error = data - data.mean()\n",
    "    numerator = (error**4).mean()\n",
    "    volatility = data.std(ddof=0)\n",
    "    return numerator/volatility**4"
   ]
  },
  {
   "cell_type": "code",
   "execution_count": 8,
   "id": "98e51295-7f56-488f-af33-4a1add50edc7",
   "metadata": {},
   "outputs": [
    {
     "data": {
      "text/plain": [
       "Convertible Arbitrage     20.280834\n",
       "CTA Global                -0.047040\n",
       "Distressed Securities      4.889983\n",
       "Emerging Markets           6.250788\n",
       "Equity Market Neutral     14.218555\n",
       "Event Driven               5.035828\n",
       "Fixed Income Arbitrage    26.842199\n",
       "Global Macro               2.741679\n",
       "Long/Short Equity          1.523893\n",
       "Merger Arbitrage           5.738950\n",
       "Relative Value             9.121208\n",
       "Short Selling              3.117772\n",
       "Funds Of Funds             4.070153\n",
       "dtype: float64"
      ]
     },
     "execution_count": 8,
     "metadata": {},
     "output_type": "execute_result"
    }
   ],
   "source": [
    "K = kurtosis_calc(data)\n",
    "K-3"
   ]
  },
  {
   "cell_type": "code",
   "execution_count": 9,
   "id": "b08b1896-438b-435f-ba39-40343b445f12",
   "metadata": {},
   "outputs": [
    {
     "data": {
      "text/plain": [
       "array([20.28083446, -0.04703963,  4.88998336,  6.25078841, 14.21855526,\n",
       "        5.03582817, 26.84219928,  2.74167945,  1.52389258,  5.73894979,\n",
       "        9.12120787,  3.11777175,  4.07015278])"
      ]
     },
     "execution_count": 9,
     "metadata": {},
     "output_type": "execute_result"
    }
   ],
   "source": [
    "scipy.stats.kurtosis(data)"
   ]
  },
  {
   "cell_type": "code",
   "execution_count": 10,
   "id": "58eafc20-b66c-4458-9616-d1bfe084f9ed",
   "metadata": {},
   "outputs": [],
   "source": [
    "def jarque_bera(data):\n",
    "    return data.shape[0]/6 * (scipy.stats.skew(data)**2 + scipy.stats.kurtosis(data)**2/4)"
   ]
  },
  {
   "cell_type": "code",
   "execution_count": 11,
   "id": "c1b31a0f-f7d1-4c37-aae8-8e9947228d5c",
   "metadata": {},
   "outputs": [
    {
     "data": {
      "text/plain": [
       "array([4.81270313e+03, 1.34675291e+00, 3.36209308e+02, 4.87870938e+02,\n",
       "       2.41324654e+03, 3.64939023e+02, 8.57608107e+03, 1.24720604e+02,\n",
       "       3.21227799e+01, 4.37303521e+02, 1.05616586e+03, 1.32372745e+02,\n",
       "       1.87274537e+02])"
      ]
     },
     "execution_count": 11,
     "metadata": {},
     "output_type": "execute_result"
    }
   ],
   "source": [
    "jarque_bera(data)"
   ]
  },
  {
   "cell_type": "code",
   "execution_count": 12,
   "id": "866a259b-0fd6-4b70-a0ea-d5b884aab76d",
   "metadata": {},
   "outputs": [
    {
     "name": "stdout",
     "output_type": "stream",
     "text": [
      "SignificanceResult(statistic=4812.703130094965, pvalue=0.0)\n",
      "SignificanceResult(statistic=1.3467529104392222, pvalue=0.5099837302620385)\n",
      "SignificanceResult(statistic=336.20930824481775, pvalue=9.841840725316291e-74)\n",
      "SignificanceResult(statistic=487.8709377480285, pvalue=1.1486082399786032e-106)\n",
      "SignificanceResult(statistic=2413.2465386972963, pvalue=0.0)\n",
      "SignificanceResult(statistic=364.93902336794577, pvalue=5.681957226739911e-80)\n",
      "SignificanceResult(statistic=8576.081065712488, pvalue=0.0)\n",
      "SignificanceResult(statistic=124.7206041789982, pvalue=8.265419732658321e-28)\n",
      "SignificanceResult(statistic=32.122779928718174, pvalue=1.0583442796497859e-07)\n",
      "SignificanceResult(statistic=437.30352111953005, pvalue=1.0983656197368262e-95)\n",
      "SignificanceResult(statistic=1056.1658603513547, pvalue=4.53416622342139e-230)\n",
      "SignificanceResult(statistic=132.3727450854098, pvalue=1.801455869044465e-29)\n",
      "SignificanceResult(statistic=187.2745372802054, pvalue=2.1570038939194672e-41)\n"
     ]
    }
   ],
   "source": [
    "for i in data.columns:\n",
    "    print(scipy.stats.jarque_bera(data[i]))"
   ]
  },
  {
   "cell_type": "markdown",
   "id": "d90f4900-8409-427c-beb3-5795e133ca59",
   "metadata": {},
   "source": [
    "Or we can use the aggregate function"
   ]
  },
  {
   "cell_type": "code",
   "execution_count": 13,
   "id": "4f7d4d4a-9a04-4570-871d-ef3ffba8ec7c",
   "metadata": {},
   "outputs": [
    {
     "data": {
      "text/html": [
       "<div>\n",
       "<style scoped>\n",
       "    .dataframe tbody tr th:only-of-type {\n",
       "        vertical-align: middle;\n",
       "    }\n",
       "\n",
       "    .dataframe tbody tr th {\n",
       "        vertical-align: top;\n",
       "    }\n",
       "\n",
       "    .dataframe thead th {\n",
       "        text-align: right;\n",
       "    }\n",
       "</style>\n",
       "<table border=\"1\" class=\"dataframe\">\n",
       "  <thead>\n",
       "    <tr style=\"text-align: right;\">\n",
       "      <th></th>\n",
       "      <th>Convertible Arbitrage</th>\n",
       "      <th>CTA Global</th>\n",
       "      <th>Distressed Securities</th>\n",
       "      <th>Emerging Markets</th>\n",
       "      <th>Equity Market Neutral</th>\n",
       "      <th>Event Driven</th>\n",
       "      <th>Fixed Income Arbitrage</th>\n",
       "      <th>Global Macro</th>\n",
       "      <th>Long/Short Equity</th>\n",
       "      <th>Merger Arbitrage</th>\n",
       "      <th>Relative Value</th>\n",
       "      <th>Short Selling</th>\n",
       "      <th>Funds Of Funds</th>\n",
       "    </tr>\n",
       "  </thead>\n",
       "  <tbody>\n",
       "    <tr>\n",
       "      <th>0</th>\n",
       "      <td>4812.70313</td>\n",
       "      <td>1.346753</td>\n",
       "      <td>3.362093e+02</td>\n",
       "      <td>4.878709e+02</td>\n",
       "      <td>2413.246539</td>\n",
       "      <td>3.649390e+02</td>\n",
       "      <td>8576.081066</td>\n",
       "      <td>1.247206e+02</td>\n",
       "      <td>3.212278e+01</td>\n",
       "      <td>4.373035e+02</td>\n",
       "      <td>1.056166e+03</td>\n",
       "      <td>1.323727e+02</td>\n",
       "      <td>1.872745e+02</td>\n",
       "    </tr>\n",
       "    <tr>\n",
       "      <th>1</th>\n",
       "      <td>0.00000</td>\n",
       "      <td>0.509984</td>\n",
       "      <td>9.841841e-74</td>\n",
       "      <td>1.148608e-106</td>\n",
       "      <td>0.000000</td>\n",
       "      <td>5.681957e-80</td>\n",
       "      <td>0.000000</td>\n",
       "      <td>8.265420e-28</td>\n",
       "      <td>1.058344e-07</td>\n",
       "      <td>1.098366e-95</td>\n",
       "      <td>4.534166e-230</td>\n",
       "      <td>1.801456e-29</td>\n",
       "      <td>2.157004e-41</td>\n",
       "    </tr>\n",
       "  </tbody>\n",
       "</table>\n",
       "</div>"
      ],
      "text/plain": [
       "   Convertible Arbitrage  CTA Global  Distressed Securities  Emerging Markets  \\\n",
       "0             4812.70313    1.346753           3.362093e+02      4.878709e+02   \n",
       "1                0.00000    0.509984           9.841841e-74     1.148608e-106   \n",
       "\n",
       "   Equity Market Neutral  Event Driven  Fixed Income Arbitrage  Global Macro  \\\n",
       "0            2413.246539  3.649390e+02             8576.081066  1.247206e+02   \n",
       "1               0.000000  5.681957e-80                0.000000  8.265420e-28   \n",
       "\n",
       "   Long/Short Equity  Merger Arbitrage  Relative Value  Short Selling  \\\n",
       "0       3.212278e+01      4.373035e+02    1.056166e+03   1.323727e+02   \n",
       "1       1.058344e-07      1.098366e-95   4.534166e-230   1.801456e-29   \n",
       "\n",
       "   Funds Of Funds  \n",
       "0    1.872745e+02  \n",
       "1    2.157004e-41  "
      ]
     },
     "execution_count": 13,
     "metadata": {},
     "output_type": "execute_result"
    }
   ],
   "source": [
    "data.aggregate(scipy.stats.jarque_bera)"
   ]
  },
  {
   "cell_type": "code",
   "execution_count": 15,
   "id": "0bb2054e-77df-49dd-a817-fb7dc1a7d203",
   "metadata": {},
   "outputs": [],
   "source": [
    "# Semi-deviation"
   ]
  },
  {
   "cell_type": "code",
   "execution_count": 16,
   "id": "889617d2-f084-4748-a787-f31a35f5a078",
   "metadata": {},
   "outputs": [
    {
     "data": {
      "text/plain": [
       "Convertible Arbitrage     0.016567\n",
       "CTA Global                0.023335\n",
       "Distressed Securities     0.017042\n",
       "Emerging Markets          0.032538\n",
       "Equity Market Neutral     0.008130\n",
       "Event Driven              0.016744\n",
       "Fixed Income Arbitrage    0.011539\n",
       "Global Macro              0.014722\n",
       "Long/Short Equity         0.019935\n",
       "Merger Arbitrage          0.009619\n",
       "Relative Value            0.011484\n",
       "Short Selling             0.047746\n",
       "Funds Of Funds            0.015566\n",
       "dtype: float64"
      ]
     },
     "execution_count": 16,
     "metadata": {},
     "output_type": "execute_result"
    }
   ],
   "source": [
    "data.std()"
   ]
  },
  {
   "cell_type": "code",
   "execution_count": 26,
   "id": "de2d3eb9-d3c1-4927-a840-61a5d5c467d6",
   "metadata": {},
   "outputs": [
    {
     "data": {
      "text/plain": [
       "Convertible Arbitrage     0.019540\n",
       "CTA Global                0.012443\n",
       "Distressed Securities     0.015185\n",
       "Emerging Markets          0.028039\n",
       "Equity Market Neutral     0.009566\n",
       "Event Driven              0.015429\n",
       "Fixed Income Arbitrage    0.017763\n",
       "Global Macro              0.006579\n",
       "Long/Short Equity         0.014051\n",
       "Merger Arbitrage          0.008875\n",
       "Relative Value            0.012244\n",
       "Short Selling             0.027283\n",
       "Funds Of Funds            0.012122\n",
       "dtype: float64"
      ]
     },
     "execution_count": 26,
     "metadata": {},
     "output_type": "execute_result"
    }
   ],
   "source": [
    "# Only negative returns\n",
    "data[data < 0].std(ddof=0)"
   ]
  },
  {
   "cell_type": "markdown",
   "id": "a913cf64-605a-4bff-b5e3-fdd5aba6e2d0",
   "metadata": {},
   "source": [
    "# VaR\n",
    "\n",
    "- Historical VaR\n",
    "- Parametric Gaussian VaR\n",
    "- Cornish-Fisher correction"
   ]
  },
  {
   "cell_type": "markdown",
   "id": "ab9770ac-87e4-49eb-87d6-a52b058ccb03",
   "metadata": {},
   "source": [
    "## Historical VaR"
   ]
  },
  {
   "cell_type": "code",
   "execution_count": 73,
   "id": "5423ecbf-d112-4721-9964-4a89c9c3f080",
   "metadata": {},
   "outputs": [
    {
     "data": {
      "text/plain": [
       "array([0.01576, 0.03169, 0.01966, 0.04247, 0.00814, 0.02535, 0.00787,\n",
       "       0.01499, 0.02598, 0.01047, 0.01174, 0.06783, 0.02047])"
      ]
     },
     "execution_count": 73,
     "metadata": {},
     "output_type": "execute_result"
    }
   ],
   "source": [
    "-np.percentile(data, 5, axis=0)"
   ]
  },
  {
   "cell_type": "code",
   "execution_count": 74,
   "id": "c31fd469-1475-4837-9366-dbb0bf90f4dd",
   "metadata": {},
   "outputs": [
    {
     "data": {
      "text/plain": [
       "Convertible Arbitrage     0.01576\n",
       "CTA Global                0.03169\n",
       "Distressed Securities     0.01966\n",
       "Emerging Markets          0.04247\n",
       "Equity Market Neutral     0.00814\n",
       "Event Driven              0.02535\n",
       "Fixed Income Arbitrage    0.00787\n",
       "Global Macro              0.01499\n",
       "Long/Short Equity         0.02598\n",
       "Merger Arbitrage          0.01047\n",
       "Relative Value            0.01174\n",
       "Short Selling             0.06783\n",
       "Funds Of Funds            0.02047\n",
       "dtype: float64"
      ]
     },
     "execution_count": 74,
     "metadata": {},
     "output_type": "execute_result"
    }
   ],
   "source": [
    "historical_var = data.aggregate(np.percentile, q=5)*-1\n",
    "historical_var"
   ]
  },
  {
   "cell_type": "markdown",
   "id": "dd661cf3-36fc-4c3c-89aa-eea4d7e44c6e",
   "metadata": {},
   "source": [
    "## Parametric Gaussian VaR"
   ]
  },
  {
   "cell_type": "code",
   "execution_count": 64,
   "id": "2c1d5927-c4fc-4ce5-9173-848e270dd2bf",
   "metadata": {},
   "outputs": [
    {
     "data": {
      "text/plain": [
       "-1.6448536269514729"
      ]
     },
     "execution_count": 64,
     "metadata": {},
     "output_type": "execute_result"
    }
   ],
   "source": [
    "scipy.stats.norm.ppf(0.05)"
   ]
  },
  {
   "cell_type": "code",
   "execution_count": 65,
   "id": "f1f1ae67-3c42-4ef7-b5c2-6742ce77359c",
   "metadata": {},
   "outputs": [
    {
     "data": {
      "text/plain": [
       "-1.6448536269514729"
      ]
     },
     "execution_count": 65,
     "metadata": {},
     "output_type": "execute_result"
    }
   ],
   "source": [
    "scipy.special.ndtri(0.05)"
   ]
  },
  {
   "cell_type": "code",
   "execution_count": 66,
   "id": "003ad572-195d-49b7-af00-cb882a16b7a1",
   "metadata": {},
   "outputs": [
    {
     "name": "stdout",
     "output_type": "stream",
     "text": [
      "40.2 µs ± 479 ns per loop (mean ± std. dev. of 7 runs, 10,000 loops each)\n"
     ]
    }
   ],
   "source": [
    "%timeit scipy.stats.norm.ppf(0.05)"
   ]
  },
  {
   "cell_type": "code",
   "execution_count": 67,
   "id": "944b6f0c-dc50-4123-8b0a-b153215a94e6",
   "metadata": {},
   "outputs": [
    {
     "name": "stdout",
     "output_type": "stream",
     "text": [
      "444 ns ± 1.83 ns per loop (mean ± std. dev. of 7 runs, 1,000,000 loops each)\n"
     ]
    }
   ],
   "source": [
    "%timeit scipy.special.ndtri(0.05)"
   ]
  },
  {
   "cell_type": "code",
   "execution_count": 69,
   "id": "b77721c9-0b3e-4e50-9afd-b90a1e10c5c2",
   "metadata": {},
   "outputs": [
    {
     "data": {
      "text/plain": [
       "90.54054054054055"
      ]
     },
     "execution_count": 69,
     "metadata": {},
     "output_type": "execute_result"
    }
   ],
   "source": [
    "40.2e3/444"
   ]
  },
  {
   "cell_type": "markdown",
   "id": "6473e83e-3119-4a8e-af68-234eff445d90",
   "metadata": {},
   "source": [
    "ndtri is 90 times faster than norm.ppf"
   ]
  },
  {
   "cell_type": "code",
   "execution_count": 72,
   "id": "1eb0d868-59a5-45dd-b1ba-22f140b41d8d",
   "metadata": {},
   "outputs": [
    {
     "data": {
      "text/plain": [
       "Convertible Arbitrage     0.021691\n",
       "CTA Global                0.034235\n",
       "Distressed Securities     0.021032\n",
       "Emerging Markets          0.047164\n",
       "Equity Market Neutral     0.008850\n",
       "Event Driven              0.021144\n",
       "Fixed Income Arbitrage    0.014579\n",
       "Global Macro              0.018766\n",
       "Long/Short Equity         0.026397\n",
       "Merger Arbitrage          0.010435\n",
       "Relative Value            0.013061\n",
       "Short Selling             0.080086\n",
       "Funds Of Funds            0.021292\n",
       "dtype: float64"
      ]
     },
     "execution_count": 72,
     "metadata": {},
     "output_type": "execute_result"
    }
   ],
   "source": [
    "var_gaussian = -(data.mean() + scipy.stats.norm.ppf(0.05)*data.std(ddof=0))\n",
    "var_gaussian"
   ]
  },
  {
   "cell_type": "markdown",
   "id": "567d8886-c00f-459a-b4f0-6e284b8a8130",
   "metadata": {},
   "source": [
    "## Cornish-Fisher Correction"
   ]
  },
  {
   "cell_type": "code",
   "execution_count": 75,
   "id": "6f3354f7-d206-46fa-88c5-d5a01bcf722f",
   "metadata": {},
   "outputs": [
    {
     "data": {
      "text/plain": [
       "-1.6448536269514729"
      ]
     },
     "execution_count": 75,
     "metadata": {},
     "output_type": "execute_result"
    }
   ],
   "source": [
    "z_alpha = scipy.stats.norm.ppf(0.05)\n",
    "z_alpha"
   ]
  },
  {
   "cell_type": "code",
   "execution_count": 76,
   "id": "70c26b76-314f-4f1c-8f01-4c6abfc69a20",
   "metadata": {},
   "outputs": [],
   "source": [
    "# But we will modify this z_alpha with this formula:"
   ]
  },
  {
   "cell_type": "code",
   "execution_count": 78,
   "id": "07a4e289-e29e-49c1-b045-bbcd2c8f201b",
   "metadata": {},
   "outputs": [],
   "source": [
    "def cornish_fisher(data, level=5):\n",
    "    \"\"\"\n",
    "    Returns the adapted z_alpha\n",
    "    \"\"\"\n",
    "    z = scipy.stats.norm.ppf(level/100)\n",
    "    skewnesss = scipy.stats.skew(data)\n",
    "    kurtosiss = scipy.stats.kurtosis(data)\n",
    "    return z + (z**2 - 1)*skewnesss/6 + (z**3 - 3*z)*kurtosiss/24 - (2*z**3 - 5*z)*skewnesss**2/36"
   ]
  },
  {
   "cell_type": "code",
   "execution_count": 81,
   "id": "a9a2d4b6-3634-46d4-a8df-3962d140e366",
   "metadata": {},
   "outputs": [
    {
     "data": {
      "text/plain": [
       "Convertible Arbitrage     0.025166\n",
       "CTA Global                0.033094\n",
       "Distressed Securities     0.025102\n",
       "Emerging Markets          0.053011\n",
       "Equity Market Neutral     0.010734\n",
       "Event Driven              0.025516\n",
       "Fixed Income Arbitrage    0.017881\n",
       "Global Macro              0.013581\n",
       "Long/Short Equity         0.027935\n",
       "Merger Arbitrage          0.012612\n",
       "Relative Value            0.016157\n",
       "Short Selling             0.066157\n",
       "Funds Of Funds            0.021576\n",
       "dtype: float64"
      ]
     },
     "execution_count": 81,
     "metadata": {},
     "output_type": "execute_result"
    }
   ],
   "source": [
    "z_modified = cornish_fisher(data, 5)\n",
    "var_cornish_fisher = -(data.mean() + z_modified*data.std(ddof=0))\n",
    "var_cornish_fisher"
   ]
  },
  {
   "cell_type": "markdown",
   "id": "3b1ed961-4d93-47b8-bad4-61c9cccfd2cd",
   "metadata": {},
   "source": [
    "## Comparison"
   ]
  },
  {
   "cell_type": "code",
   "execution_count": 105,
   "id": "d4e759cc-80b3-4999-901d-72b27707853b",
   "metadata": {},
   "outputs": [
    {
     "data": {
      "text/html": [
       "<div>\n",
       "<style scoped>\n",
       "    .dataframe tbody tr th:only-of-type {\n",
       "        vertical-align: middle;\n",
       "    }\n",
       "\n",
       "    .dataframe tbody tr th {\n",
       "        vertical-align: top;\n",
       "    }\n",
       "\n",
       "    .dataframe thead th {\n",
       "        text-align: right;\n",
       "    }\n",
       "</style>\n",
       "<table border=\"1\" class=\"dataframe\">\n",
       "  <thead>\n",
       "    <tr style=\"text-align: right;\">\n",
       "      <th></th>\n",
       "      <th>Historical</th>\n",
       "      <th>Gaussian</th>\n",
       "      <th>Cornish-Fisher</th>\n",
       "    </tr>\n",
       "  </thead>\n",
       "  <tbody>\n",
       "    <tr>\n",
       "      <th>Convertible Arbitrage</th>\n",
       "      <td>1.576</td>\n",
       "      <td>2.169082</td>\n",
       "      <td>2.516623</td>\n",
       "    </tr>\n",
       "    <tr>\n",
       "      <th>CTA Global</th>\n",
       "      <td>3.169</td>\n",
       "      <td>3.423512</td>\n",
       "      <td>3.309407</td>\n",
       "    </tr>\n",
       "    <tr>\n",
       "      <th>Distressed Securities</th>\n",
       "      <td>1.966</td>\n",
       "      <td>2.103167</td>\n",
       "      <td>2.510208</td>\n",
       "    </tr>\n",
       "    <tr>\n",
       "      <th>Emerging Markets</th>\n",
       "      <td>4.247</td>\n",
       "      <td>4.716437</td>\n",
       "      <td>5.301059</td>\n",
       "    </tr>\n",
       "    <tr>\n",
       "      <th>Equity Market Neutral</th>\n",
       "      <td>0.814</td>\n",
       "      <td>0.884956</td>\n",
       "      <td>1.073361</td>\n",
       "    </tr>\n",
       "    <tr>\n",
       "      <th>Event Driven</th>\n",
       "      <td>2.535</td>\n",
       "      <td>2.114377</td>\n",
       "      <td>2.551619</td>\n",
       "    </tr>\n",
       "    <tr>\n",
       "      <th>Fixed Income Arbitrage</th>\n",
       "      <td>0.787</td>\n",
       "      <td>1.457877</td>\n",
       "      <td>1.788122</td>\n",
       "    </tr>\n",
       "    <tr>\n",
       "      <th>Global Macro</th>\n",
       "      <td>1.499</td>\n",
       "      <td>1.876650</td>\n",
       "      <td>1.358129</td>\n",
       "    </tr>\n",
       "    <tr>\n",
       "      <th>Long/Short Equity</th>\n",
       "      <td>2.598</td>\n",
       "      <td>2.639673</td>\n",
       "      <td>2.793499</td>\n",
       "    </tr>\n",
       "    <tr>\n",
       "      <th>Merger Arbitrage</th>\n",
       "      <td>1.047</td>\n",
       "      <td>1.043547</td>\n",
       "      <td>1.261186</td>\n",
       "    </tr>\n",
       "    <tr>\n",
       "      <th>Relative Value</th>\n",
       "      <td>1.174</td>\n",
       "      <td>1.306126</td>\n",
       "      <td>1.615692</td>\n",
       "    </tr>\n",
       "    <tr>\n",
       "      <th>Short Selling</th>\n",
       "      <td>6.783</td>\n",
       "      <td>8.008618</td>\n",
       "      <td>6.615668</td>\n",
       "    </tr>\n",
       "    <tr>\n",
       "      <th>Funds Of Funds</th>\n",
       "      <td>2.047</td>\n",
       "      <td>2.129236</td>\n",
       "      <td>2.157577</td>\n",
       "    </tr>\n",
       "  </tbody>\n",
       "</table>\n",
       "</div>"
      ],
      "text/plain": [
       "                        Historical  Gaussian  Cornish-Fisher\n",
       "Convertible Arbitrage        1.576  2.169082        2.516623\n",
       "CTA Global                   3.169  3.423512        3.309407\n",
       "Distressed Securities        1.966  2.103167        2.510208\n",
       "Emerging Markets             4.247  4.716437        5.301059\n",
       "Equity Market Neutral        0.814  0.884956        1.073361\n",
       "Event Driven                 2.535  2.114377        2.551619\n",
       "Fixed Income Arbitrage       0.787  1.457877        1.788122\n",
       "Global Macro                 1.499  1.876650        1.358129\n",
       "Long/Short Equity            2.598  2.639673        2.793499\n",
       "Merger Arbitrage             1.047  1.043547        1.261186\n",
       "Relative Value               1.174  1.306126        1.615692\n",
       "Short Selling                6.783  8.008618        6.615668\n",
       "Funds Of Funds               2.047  2.129236        2.157577"
      ]
     },
     "execution_count": 105,
     "metadata": {},
     "output_type": "execute_result"
    }
   ],
   "source": [
    "results = [historical_var, var_gaussian, var_cornish_fisher]\n",
    "results = pd.concat(results, axis=1)\n",
    "results.columns = [\"Historical\",\"Gaussian\",\"Cornish-Fisher\"]\n",
    "results *= 100\n",
    "results"
   ]
  },
  {
   "cell_type": "code",
   "execution_count": 108,
   "id": "98807888-a777-49c7-a365-72f60a103bf6",
   "metadata": {},
   "outputs": [
    {
     "data": {
      "text/plain": [
       "<Axes: >"
      ]
     },
     "execution_count": 108,
     "metadata": {},
     "output_type": "execute_result"
    },
    {
     "data": {
      "image/png": "[encoded data removed]",
      "text/plain": [
       "<Figure size 640x480 with 1 Axes>"
      ]
     },
     "metadata": {},
     "output_type": "display_data"
    }
   ],
   "source": [
    "results.plot.bar()"
   ]
  },
  {
   "cell_type": "markdown",
   "id": "a892f4f3-d46e-497f-8a35-36820ca27bb8",
   "metadata": {},
   "source": [
    "# CVaR"
   ]
  },
  {
   "cell_type": "code",
   "execution_count": 109,
   "id": "28463c16-1883-48a3-91ea-a4df916997ef",
   "metadata": {},
   "outputs": [
    {
     "data": {
      "text/plain": [
       "Convertible Arbitrage     0.01576\n",
       "CTA Global                0.03169\n",
       "Distressed Securities     0.01966\n",
       "Emerging Markets          0.04247\n",
       "Equity Market Neutral     0.00814\n",
       "Event Driven              0.02535\n",
       "Fixed Income Arbitrage    0.00787\n",
       "Global Macro              0.01499\n",
       "Long/Short Equity         0.02598\n",
       "Merger Arbitrage          0.01047\n",
       "Relative Value            0.01174\n",
       "Short Selling             0.06783\n",
       "Funds Of Funds            0.02047\n",
       "dtype: float64"
      ]
     },
     "execution_count": 109,
     "metadata": {},
     "output_type": "execute_result"
    }
   ],
   "source": [
    "historical_var"
   ]
  },
  {
   "cell_type": "code",
   "execution_count": 110,
   "id": "981264e9-0221-4f17-80ee-ce20e8247a67",
   "metadata": {},
   "outputs": [],
   "source": [
    "# The mean of the extreme values, beyond the VaR calculated"
   ]
  },
  {
   "cell_type": "code",
   "execution_count": 117,
   "id": "9b4396f8-8f49-4114-93df-d658c0c025f1",
   "metadata": {},
   "outputs": [
    {
     "data": {
      "text/plain": [
       "Convertible Arbitrage     0.036550\n",
       "CTA Global                0.041264\n",
       "Distressed Securities     0.036429\n",
       "Emerging Markets          0.072364\n",
       "Equity Market Neutral     0.016879\n",
       "Event Driven              0.038336\n",
       "Fixed Income Arbitrage    0.028257\n",
       "Global Macro              0.020629\n",
       "Long/Short Equity         0.041943\n",
       "Merger Arbitrage          0.019143\n",
       "Relative Value            0.024650\n",
       "Short Selling             0.096821\n",
       "Funds Of Funds            0.033207\n",
       "dtype: float64"
      ]
     },
     "execution_count": 117,
     "metadata": {},
     "output_type": "execute_result"
    }
   ],
   "source": [
    "cvar = -data[data < -historical_var].mean()\n",
    "cvar"
   ]
  },
  {
   "cell_type": "code",
   "execution_count": null,
   "id": "dced205a-bd2a-4e56-8381-17cf702fa7b2",
   "metadata": {},
   "outputs": [],
   "source": []
  }
 ],
 "metadata": {
  "kernelspec": {
   "display_name": "Python 3 (ipykernel)",
   "language": "python",
   "name": "python3"
  },
  "language_info": {
   "codemirror_mode": {
    "name": "ipython",
    "version": 3
   },
   "file_extension": ".py",
   "mimetype": "text/x-python",
   "name": "python",
   "nbconvert_exporter": "python",
   "pygments_lexer": "ipython3",
   "version": "3.11.1"
  }
 },
 "nbformat": 4,
 "nbformat_minor": 5
}
