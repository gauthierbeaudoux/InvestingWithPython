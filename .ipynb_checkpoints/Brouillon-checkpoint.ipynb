{
 "cells": [
  {
   "cell_type": "code",
   "execution_count": 1,
   "id": "c4b927d3-6d18-417b-b5bf-dcca1aa17a45",
   "metadata": {},
   "outputs": [],
   "source": [
    "import numpy as np\n",
    "import pandas as pd"
   ]
  },
  {
   "cell_type": "code",
   "execution_count": 14,
   "id": "9469a36d-2805-4460-976c-95d90c7a36bd",
   "metadata": {},
   "outputs": [
    {
     "data": {
      "text/html": [
       "<div>\n",
       "<style scoped>\n",
       "    .dataframe tbody tr th:only-of-type {\n",
       "        vertical-align: middle;\n",
       "    }\n",
       "\n",
       "    .dataframe tbody tr th {\n",
       "        vertical-align: top;\n",
       "    }\n",
       "\n",
       "    .dataframe thead th {\n",
       "        text-align: right;\n",
       "    }\n",
       "</style>\n",
       "<table border=\"1\" class=\"dataframe\">\n",
       "  <thead>\n",
       "    <tr style=\"text-align: right;\">\n",
       "      <th></th>\n",
       "      <th>&lt;= 0</th>\n",
       "      <th>Lo 30</th>\n",
       "      <th>Med 40</th>\n",
       "      <th>Hi 30</th>\n",
       "      <th>Lo 20</th>\n",
       "      <th>Qnt 2</th>\n",
       "      <th>Qnt 3</th>\n",
       "      <th>Qnt 4</th>\n",
       "      <th>Hi 20</th>\n",
       "      <th>Lo 10</th>\n",
       "      <th>Dec 2</th>\n",
       "      <th>Dec 3</th>\n",
       "      <th>Dec 4</th>\n",
       "      <th>Dec 5</th>\n",
       "      <th>Dec 6</th>\n",
       "      <th>Dec 7</th>\n",
       "      <th>Dec 8</th>\n",
       "      <th>Dec 9</th>\n",
       "      <th>Hi 10</th>\n",
       "    </tr>\n",
       "  </thead>\n",
       "  <tbody>\n",
       "    <tr>\n",
       "      <th>1926-07</th>\n",
       "      <td>NaN</td>\n",
       "      <td>-0.0043</td>\n",
       "      <td>0.0152</td>\n",
       "      <td>0.0268</td>\n",
       "      <td>-0.0057</td>\n",
       "      <td>0.0059</td>\n",
       "      <td>0.0160</td>\n",
       "      <td>0.0147</td>\n",
       "      <td>0.0333</td>\n",
       "      <td>-0.0145</td>\n",
       "      <td>0.0029</td>\n",
       "      <td>-0.0015</td>\n",
       "      <td>0.0133</td>\n",
       "      <td>0.0124</td>\n",
       "      <td>0.0198</td>\n",
       "      <td>0.0155</td>\n",
       "      <td>0.0138</td>\n",
       "      <td>0.0338</td>\n",
       "      <td>0.0329</td>\n",
       "    </tr>\n",
       "    <tr>\n",
       "      <th>1926-08</th>\n",
       "      <td>NaN</td>\n",
       "      <td>0.0390</td>\n",
       "      <td>0.0304</td>\n",
       "      <td>0.0209</td>\n",
       "      <td>0.0384</td>\n",
       "      <td>0.0359</td>\n",
       "      <td>0.0371</td>\n",
       "      <td>0.0161</td>\n",
       "      <td>0.0233</td>\n",
       "      <td>0.0512</td>\n",
       "      <td>0.0259</td>\n",
       "      <td>0.0403</td>\n",
       "      <td>0.0315</td>\n",
       "      <td>0.0272</td>\n",
       "      <td>0.0472</td>\n",
       "      <td>0.0160</td>\n",
       "      <td>0.0163</td>\n",
       "      <td>0.0098</td>\n",
       "      <td>0.0370</td>\n",
       "    </tr>\n",
       "    <tr>\n",
       "      <th>1926-09</th>\n",
       "      <td>NaN</td>\n",
       "      <td>-0.0108</td>\n",
       "      <td>-0.0054</td>\n",
       "      <td>0.0016</td>\n",
       "      <td>-0.0048</td>\n",
       "      <td>-0.0140</td>\n",
       "      <td>0.0000</td>\n",
       "      <td>-0.0050</td>\n",
       "      <td>-0.0009</td>\n",
       "      <td>0.0093</td>\n",
       "      <td>-0.0187</td>\n",
       "      <td>-0.0227</td>\n",
       "      <td>-0.0053</td>\n",
       "      <td>0.0007</td>\n",
       "      <td>-0.0007</td>\n",
       "      <td>-0.0164</td>\n",
       "      <td>0.0064</td>\n",
       "      <td>-0.0086</td>\n",
       "      <td>0.0067</td>\n",
       "    </tr>\n",
       "    <tr>\n",
       "      <th>1926-10</th>\n",
       "      <td>NaN</td>\n",
       "      <td>-0.0332</td>\n",
       "      <td>-0.0352</td>\n",
       "      <td>-0.0306</td>\n",
       "      <td>-0.0329</td>\n",
       "      <td>-0.0410</td>\n",
       "      <td>-0.0289</td>\n",
       "      <td>-0.0336</td>\n",
       "      <td>-0.0295</td>\n",
       "      <td>-0.0484</td>\n",
       "      <td>-0.0177</td>\n",
       "      <td>-0.0336</td>\n",
       "      <td>-0.0483</td>\n",
       "      <td>-0.0298</td>\n",
       "      <td>-0.0280</td>\n",
       "      <td>-0.0345</td>\n",
       "      <td>-0.0327</td>\n",
       "      <td>-0.0347</td>\n",
       "      <td>-0.0243</td>\n",
       "    </tr>\n",
       "    <tr>\n",
       "      <th>1926-11</th>\n",
       "      <td>NaN</td>\n",
       "      <td>-0.0046</td>\n",
       "      <td>0.0382</td>\n",
       "      <td>0.0309</td>\n",
       "      <td>-0.0055</td>\n",
       "      <td>0.0218</td>\n",
       "      <td>0.0341</td>\n",
       "      <td>0.0339</td>\n",
       "      <td>0.0316</td>\n",
       "      <td>-0.0078</td>\n",
       "      <td>-0.0032</td>\n",
       "      <td>-0.0029</td>\n",
       "      <td>0.0465</td>\n",
       "      <td>0.0324</td>\n",
       "      <td>0.0357</td>\n",
       "      <td>0.0382</td>\n",
       "      <td>0.0295</td>\n",
       "      <td>0.0361</td>\n",
       "      <td>0.0270</td>\n",
       "    </tr>\n",
       "  </tbody>\n",
       "</table>\n",
       "</div>"
      ],
      "text/plain": [
       "         <= 0   Lo 30  Med 40   Hi 30   Lo 20   Qnt 2   Qnt 3   Qnt 4   Hi 20  \\\n",
       "1926-07   NaN -0.0043  0.0152  0.0268 -0.0057  0.0059  0.0160  0.0147  0.0333   \n",
       "1926-08   NaN  0.0390  0.0304  0.0209  0.0384  0.0359  0.0371  0.0161  0.0233   \n",
       "1926-09   NaN -0.0108 -0.0054  0.0016 -0.0048 -0.0140  0.0000 -0.0050 -0.0009   \n",
       "1926-10   NaN -0.0332 -0.0352 -0.0306 -0.0329 -0.0410 -0.0289 -0.0336 -0.0295   \n",
       "1926-11   NaN -0.0046  0.0382  0.0309 -0.0055  0.0218  0.0341  0.0339  0.0316   \n",
       "\n",
       "          Lo 10   Dec 2   Dec 3   Dec 4   Dec 5   Dec 6   Dec 7   Dec 8  \\\n",
       "1926-07 -0.0145  0.0029 -0.0015  0.0133  0.0124  0.0198  0.0155  0.0138   \n",
       "1926-08  0.0512  0.0259  0.0403  0.0315  0.0272  0.0472  0.0160  0.0163   \n",
       "1926-09  0.0093 -0.0187 -0.0227 -0.0053  0.0007 -0.0007 -0.0164  0.0064   \n",
       "1926-10 -0.0484 -0.0177 -0.0336 -0.0483 -0.0298 -0.0280 -0.0345 -0.0327   \n",
       "1926-11 -0.0078 -0.0032 -0.0029  0.0465  0.0324  0.0357  0.0382  0.0295   \n",
       "\n",
       "          Dec 9   Hi 10  \n",
       "1926-07  0.0338  0.0329  \n",
       "1926-08  0.0098  0.0370  \n",
       "1926-09 -0.0086  0.0067  \n",
       "1926-10 -0.0347 -0.0243  \n",
       "1926-11  0.0361  0.0270  "
      ]
     },
     "execution_count": 14,
     "metadata": {},
     "output_type": "execute_result"
    }
   ],
   "source": [
    "data = pd.read_csv(\"data/Portfolios_Formed_on_ME_monthly_EW.csv\", index_col=0, header=0, na_values=-99.99)\n",
    "data.index = pd.to_datetime(data.index, format=\"%Y%m\")\n",
    "data /= 100\n",
    "data.index = data.index.to_period(\"M\")\n",
    "data.head()"
   ]
  },
  {
   "cell_type": "code",
   "execution_count": 36,
   "id": "1c4f790a-d315-4390-92a0-3fb959449779",
   "metadata": {},
   "outputs": [],
   "source": [
    "def annualized_return(r:pd.Series):\n",
    "    total_return = (1+r).prod()\n",
    "    return total_return**(12/r.shape[0])-1"
   ]
  },
  {
   "cell_type": "code",
   "execution_count": 32,
   "id": "8cd0a4b7-e547-48cd-9d28-b4fb8e7e2de7",
   "metadata": {},
   "outputs": [],
   "source": [
    "def annualized_vol(r:pd.Series):\n",
    "    return r.std()*np.sqrt(12)"
   ]
  },
  {
   "cell_type": "code",
   "execution_count": 16,
   "id": "b50e65e1-dc0d-4c61-b310-c7fc25743d0d",
   "metadata": {},
   "outputs": [
    {
     "data": {
      "text/plain": [
       "1926-07   -0.0057\n",
       "1926-08    0.0384\n",
       "1926-09   -0.0048\n",
       "1926-10   -0.0329\n",
       "1926-11   -0.0055\n",
       "Freq: M, Name: Lo 20, dtype: float64"
      ]
     },
     "execution_count": 16,
     "metadata": {},
     "output_type": "execute_result"
    }
   ],
   "source": [
    "lo_20 = data[\"Lo 20\"]\n",
    "lo_20.head()"
   ]
  },
  {
   "cell_type": "code",
   "execution_count": 23,
   "id": "e6bd2d56-1fad-4196-9464-8999644a0f2c",
   "metadata": {},
   "outputs": [
    {
     "data": {
      "text/plain": [
       "0.15197701163833743"
      ]
     },
     "execution_count": 23,
     "metadata": {},
     "output_type": "execute_result"
    }
   ],
   "source": [
    "((lo_20+1).prod())**(12/lo_20.shape[0])-1"
   ]
  },
  {
   "cell_type": "code",
   "execution_count": 37,
   "id": "4ef90bfe-441b-4867-8620-b4dd9d1675dd",
   "metadata": {},
   "outputs": [
    {
     "data": {
      "text/plain": [
       "0.15197701163833743"
      ]
     },
     "execution_count": 37,
     "metadata": {},
     "output_type": "execute_result"
    }
   ],
   "source": [
    "annualized_return(lo_20)"
   ]
  },
  {
   "cell_type": "code",
   "execution_count": 26,
   "id": "e73ded89-2c85-4c4d-ae61-6f127dcd6bb7",
   "metadata": {},
   "outputs": [
    {
     "data": {
      "text/plain": [
       "0.3367012751715777"
      ]
     },
     "execution_count": 26,
     "metadata": {},
     "output_type": "execute_result"
    }
   ],
   "source": [
    "lo_20.std()*np.sqrt(12)"
   ]
  },
  {
   "cell_type": "code",
   "execution_count": 33,
   "id": "4cb7438d-ebcf-461a-83ee-1aa2a3295012",
   "metadata": {},
   "outputs": [
    {
     "data": {
      "text/plain": [
       "0.3367012751715777"
      ]
     },
     "execution_count": 33,
     "metadata": {},
     "output_type": "execute_result"
    }
   ],
   "source": [
    "annualized_vol(lo_20)"
   ]
  },
  {
   "cell_type": "code",
   "execution_count": 38,
   "id": "5998fc8d-81a4-4315-b558-a09f141d164a",
   "metadata": {},
   "outputs": [
    {
     "data": {
      "text/plain": [
       "0.09849020951253151"
      ]
     },
     "execution_count": 38,
     "metadata": {},
     "output_type": "execute_result"
    }
   ],
   "source": [
    "annualized_return(hi_20)"
   ]
  },
  {
   "cell_type": "code",
   "execution_count": 27,
   "id": "2076132f-7172-4362-85ad-132c01b616cc",
   "metadata": {},
   "outputs": [
    {
     "data": {
      "text/plain": [
       "0.09849020951253151"
      ]
     },
     "execution_count": 27,
     "metadata": {},
     "output_type": "execute_result"
    }
   ],
   "source": [
    "hi_20 = data[\"Hi 20\"]\n",
    "((hi_20+1).prod())**(12/hi_20.shape[0])-1"
   ]
  },
  {
   "cell_type": "code",
   "execution_count": 39,
   "id": "3b6dd300-769d-4b02-b20c-ab04d4575807",
   "metadata": {},
   "outputs": [
    {
     "data": {
      "text/plain": [
       "0.19511604155631326"
      ]
     },
     "execution_count": 39,
     "metadata": {},
     "output_type": "execute_result"
    }
   ],
   "source": [
    "annualized_vol(hi_20)"
   ]
  },
  {
   "cell_type": "code",
   "execution_count": 30,
   "id": "59d93c47-f28f-4a55-b8ff-193e9c7467a2",
   "metadata": {},
   "outputs": [
    {
     "data": {
      "text/plain": [
       "0.19511604155631326"
      ]
     },
     "execution_count": 30,
     "metadata": {},
     "output_type": "execute_result"
    }
   ],
   "source": [
    "hi_20.std()*np.sqrt(12)"
   ]
  },
  {
   "cell_type": "code",
   "execution_count": 40,
   "id": "ec328fbc-d0b2-448d-92ff-ac2ea4384811",
   "metadata": {},
   "outputs": [
    {
     "data": {
      "text/plain": [
       "0.11442634058514933"
      ]
     },
     "execution_count": 40,
     "metadata": {},
     "output_type": "execute_result"
    }
   ],
   "source": [
    "annualized_return(lo_20[\"1999\":\"2015\"])"
   ]
  },
  {
   "cell_type": "code",
   "execution_count": 41,
   "id": "e6fd97be-ca2f-40cf-b124-55acea2c559c",
   "metadata": {},
   "outputs": [
    {
     "data": {
      "text/plain": [
       "0.22889447266699597"
      ]
     },
     "execution_count": 41,
     "metadata": {},
     "output_type": "execute_result"
    }
   ],
   "source": [
    "annualized_vol(lo_20[\"1999\":\"2015\"])"
   ]
  },
  {
   "cell_type": "code",
   "execution_count": 42,
   "id": "c3e520b9-0dec-4925-8a8a-787fd218803f",
   "metadata": {},
   "outputs": [
    {
     "data": {
      "text/plain": [
       "0.06286512130085109"
      ]
     },
     "execution_count": 42,
     "metadata": {},
     "output_type": "execute_result"
    }
   ],
   "source": [
    "annualized_return(hi_20[\"1999\":\"2015\"])"
   ]
  },
  {
   "cell_type": "code",
   "execution_count": 44,
   "id": "6c2d63e5-5380-44cf-a929-6984e3c6721f",
   "metadata": {},
   "outputs": [
    {
     "data": {
      "text/plain": [
       "0.1727133212125047"
      ]
     },
     "execution_count": 44,
     "metadata": {},
     "output_type": "execute_result"
    }
   ],
   "source": [
    "annualized_vol(hi_20[\"1999\":\"2015\"])"
   ]
  },
  {
   "cell_type": "code",
   "execution_count": 48,
   "id": "5b179975-8751-46f8-8154-2945dbbe0dd9",
   "metadata": {},
   "outputs": [
    {
     "data": {
      "text/plain": [
       "1926-07         0.994300\n",
       "1926-08         1.032481\n",
       "1926-09         1.027525\n",
       "1926-10         0.993720\n",
       "1926-11         0.988254\n",
       "               ...      \n",
       "2018-08    664400.279434\n",
       "2018-09    650846.513734\n",
       "2018-10    582377.460489\n",
       "2018-11    566187.367087\n",
       "2018-12    482561.492968\n",
       "Freq: M, Name: Lo 20, Length: 1110, dtype: float64"
      ]
     },
     "execution_count": 48,
     "metadata": {},
     "output_type": "execute_result"
    }
   ],
   "source": [
    "(lo_20+1).cumprod()"
   ]
  },
  {
   "cell_type": "code",
   "execution_count": 59,
   "id": "164e7736-8635-48a8-b435-af1188326784",
   "metadata": {},
   "outputs": [],
   "source": [
    "def drawdown(r:pd.Series):\n",
    "    wealth_index = 1000*(1+r).cumprod()\n",
    "    maxx = wealth_index.cummax()\n",
    "    draw = (maxx - wealth_index)/maxx\n",
    "    return -draw"
   ]
  },
  {
   "cell_type": "code",
   "execution_count": 60,
   "id": "b3ce9ea0-4db3-4ef0-bc63-d4198a7a32a4",
   "metadata": {},
   "outputs": [
    {
     "data": {
      "text/plain": [
       "<Axes: >"
      ]
     },
     "execution_count": 60,
     "metadata": {},
     "output_type": "execute_result"
    },
    {
     "data": {
      "image/png": "[encoded data removed]",
      "text/plain": [
       "<Figure size 640x480 with 1 Axes>"
      ]
     },
     "metadata": {},
     "output_type": "display_data"
    }
   ],
   "source": [
    "drawdown(lo_20).plot()"
   ]
  },
  {
   "cell_type": "code",
   "execution_count": 65,
   "id": "08e58449-e761-43e5-ba49-46ff4d947864",
   "metadata": {},
   "outputs": [
    {
     "data": {
      "text/plain": [
       "Period('2009-02', 'M')"
      ]
     },
     "execution_count": 65,
     "metadata": {},
     "output_type": "execute_result"
    }
   ],
   "source": [
    "drawdown(lo_20[\"1999\":\"2015\"]).idxmin()"
   ]
  },
  {
   "cell_type": "code",
   "execution_count": 68,
   "id": "6b1784ef-53f1-41a7-9d43-33efbcb0e9ee",
   "metadata": {},
   "outputs": [
    {
     "data": {
      "text/plain": [
       "Period('2009-02', 'M')"
      ]
     },
     "execution_count": 68,
     "metadata": {},
     "output_type": "execute_result"
    }
   ],
   "source": [
    "drawdown(hi_20[\"1999\":\"2015\"]).idxmin()"
   ]
  },
  {
   "cell_type": "code",
   "execution_count": 78,
   "id": "48759a7d-6d35-4bda-8ebc-6deb61625901",
   "metadata": {},
   "outputs": [
    {
     "data": {
      "text/plain": [
       "DatetimeIndex(['1997-01-31', '1997-02-28', '1997-03-31', '1997-04-30',\n",
       "               '1997-05-31', '1997-06-30', '1997-07-31', '1997-08-31',\n",
       "               '1997-09-30', '1997-10-31',\n",
       "               ...\n",
       "               '2018-02-28', '2018-03-31', '2018-04-30', '2018-05-31',\n",
       "               '2018-06-30', '2018-07-31', '2018-08-31', '2018-09-30',\n",
       "               '2018-10-31', '2018-11-30'],\n",
       "              dtype='datetime64[ns]', name='date', length=263, freq=None)"
      ]
     },
     "execution_count": 78,
     "metadata": {},
     "output_type": "execute_result"
    }
   ],
   "source": [
    "data2 = pd.read_csv(\"data/edhec-hedgefundindices.csv\", index_col=0, parse_dates=True, dayfirst=True)\n",
    "data2.index"
   ]
  },
  {
   "cell_type": "code",
   "execution_count": 80,
   "id": "65493be7-26d2-4efa-828e-09cfa5da1bca",
   "metadata": {},
   "outputs": [],
   "source": [
    "data2009 = data2[\"2009\":]"
   ]
  },
  {
   "cell_type": "code",
   "execution_count": 88,
   "id": "ffe9a83f-2557-4138-a8b3-3024ab8e58fe",
   "metadata": {},
   "outputs": [
    {
     "data": {
      "text/plain": [
       "'Short Selling'"
      ]
     },
     "execution_count": 88,
     "metadata": {},
     "output_type": "execute_result"
    }
   ],
   "source": [
    "data2009[data2009 < data2009.mean()].std().idxmax()"
   ]
  },
  {
   "cell_type": "code",
   "execution_count": 87,
   "id": "f372bcd9-1cc9-4e24-a1c5-57ce6c745095",
   "metadata": {},
   "outputs": [
    {
     "data": {
      "text/plain": [
       "'Fixed Income Arbitrage'"
      ]
     },
     "execution_count": 87,
     "metadata": {},
     "output_type": "execute_result"
    }
   ],
   "source": [
    "data2009[data2009 < data2009.mean()].std().idxmin()"
   ]
  },
  {
   "cell_type": "code",
   "execution_count": 92,
   "id": "75f2e02c-60a5-4df7-b292-eec2384aefc5",
   "metadata": {},
   "outputs": [
    {
     "data": {
      "text/plain": [
       "'Equity Market Neutral'"
      ]
     },
     "execution_count": 92,
     "metadata": {},
     "output_type": "execute_result"
    }
   ],
   "source": [
    "data2009.skew().idxmin()"
   ]
  },
  {
   "cell_type": "code",
   "execution_count": 94,
   "id": "ed875cc6-3159-4761-829e-ad157fafc751",
   "metadata": {},
   "outputs": [
    {
     "data": {
      "text/plain": [
       "'Fixed Income Arbitrage'"
      ]
     },
     "execution_count": 94,
     "metadata": {},
     "output_type": "execute_result"
    }
   ],
   "source": [
    "data2[\"2000\":].kurt().idxmax()"
   ]
  },
  {
   "cell_type": "code",
   "execution_count": null,
   "id": "258363e2-d613-4616-88ba-fa34608bfbee",
   "metadata": {},
   "outputs": [],
   "source": []
  }
 ],
 "metadata": {
  "kernelspec": {
   "display_name": "Python 3 (ipykernel)",
   "language": "python",
   "name": "python3"
  },
  "language_info": {
   "codemirror_mode": {
    "name": "ipython",
    "version": 3
   },
   "file_extension": ".py",
   "mimetype": "text/x-python",
   "name": "python",
   "nbconvert_exporter": "python",
   "pygments_lexer": "ipython3",
   "version": "3.11.1"
  }
 },
 "nbformat": 4,
 "nbformat_minor": 5
}
