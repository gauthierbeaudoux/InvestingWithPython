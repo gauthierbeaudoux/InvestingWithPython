{
 "cells": [
  {
   "cell_type": "code",
   "execution_count": 21,
   "id": "f7c7efa5-cf5a-4597-9af6-04fe73ec26da",
   "metadata": {},
   "outputs": [],
   "source": [
    "import pandas as pd\n",
    "import scipy"
   ]
  },
  {
   "cell_type": "code",
   "execution_count": 18,
   "id": "d7a8fff3-81dd-4d9f-b856-3101467a3500",
   "metadata": {},
   "outputs": [
    {
     "data": {
      "text/html": [
       "<div>\n",
       "<style scoped>\n",
       "    .dataframe tbody tr th:only-of-type {\n",
       "        vertical-align: middle;\n",
       "    }\n",
       "\n",
       "    .dataframe tbody tr th {\n",
       "        vertical-align: top;\n",
       "    }\n",
       "\n",
       "    .dataframe thead th {\n",
       "        text-align: right;\n",
       "    }\n",
       "</style>\n",
       "<table border=\"1\" class=\"dataframe\">\n",
       "  <thead>\n",
       "    <tr style=\"text-align: right;\">\n",
       "      <th></th>\n",
       "      <th>Convertible Arbitrage</th>\n",
       "      <th>CTA Global</th>\n",
       "      <th>Distressed Securities</th>\n",
       "      <th>Emerging Markets</th>\n",
       "      <th>Equity Market Neutral</th>\n",
       "      <th>Event Driven</th>\n",
       "      <th>Fixed Income Arbitrage</th>\n",
       "      <th>Global Macro</th>\n",
       "      <th>Long/Short Equity</th>\n",
       "      <th>Merger Arbitrage</th>\n",
       "      <th>Relative Value</th>\n",
       "      <th>Short Selling</th>\n",
       "      <th>Funds Of Funds</th>\n",
       "    </tr>\n",
       "    <tr>\n",
       "      <th>date</th>\n",
       "      <th></th>\n",
       "      <th></th>\n",
       "      <th></th>\n",
       "      <th></th>\n",
       "      <th></th>\n",
       "      <th></th>\n",
       "      <th></th>\n",
       "      <th></th>\n",
       "      <th></th>\n",
       "      <th></th>\n",
       "      <th></th>\n",
       "      <th></th>\n",
       "      <th></th>\n",
       "    </tr>\n",
       "  </thead>\n",
       "  <tbody>\n",
       "    <tr>\n",
       "      <th>1997-01</th>\n",
       "      <td>0.0119</td>\n",
       "      <td>0.0393</td>\n",
       "      <td>0.0178</td>\n",
       "      <td>0.0791</td>\n",
       "      <td>0.0189</td>\n",
       "      <td>0.0213</td>\n",
       "      <td>0.0191</td>\n",
       "      <td>0.0573</td>\n",
       "      <td>0.0281</td>\n",
       "      <td>0.0150</td>\n",
       "      <td>0.0180</td>\n",
       "      <td>-0.0166</td>\n",
       "      <td>0.0317</td>\n",
       "    </tr>\n",
       "    <tr>\n",
       "      <th>1997-02</th>\n",
       "      <td>0.0123</td>\n",
       "      <td>0.0298</td>\n",
       "      <td>0.0122</td>\n",
       "      <td>0.0525</td>\n",
       "      <td>0.0101</td>\n",
       "      <td>0.0084</td>\n",
       "      <td>0.0122</td>\n",
       "      <td>0.0175</td>\n",
       "      <td>-0.0006</td>\n",
       "      <td>0.0034</td>\n",
       "      <td>0.0118</td>\n",
       "      <td>0.0426</td>\n",
       "      <td>0.0106</td>\n",
       "    </tr>\n",
       "    <tr>\n",
       "      <th>1997-03</th>\n",
       "      <td>0.0078</td>\n",
       "      <td>-0.0021</td>\n",
       "      <td>-0.0012</td>\n",
       "      <td>-0.0120</td>\n",
       "      <td>0.0016</td>\n",
       "      <td>-0.0023</td>\n",
       "      <td>0.0109</td>\n",
       "      <td>-0.0119</td>\n",
       "      <td>-0.0084</td>\n",
       "      <td>0.0060</td>\n",
       "      <td>0.0010</td>\n",
       "      <td>0.0778</td>\n",
       "      <td>-0.0077</td>\n",
       "    </tr>\n",
       "    <tr>\n",
       "      <th>1997-04</th>\n",
       "      <td>0.0086</td>\n",
       "      <td>-0.0170</td>\n",
       "      <td>0.0030</td>\n",
       "      <td>0.0119</td>\n",
       "      <td>0.0119</td>\n",
       "      <td>-0.0005</td>\n",
       "      <td>0.0130</td>\n",
       "      <td>0.0172</td>\n",
       "      <td>0.0084</td>\n",
       "      <td>-0.0001</td>\n",
       "      <td>0.0122</td>\n",
       "      <td>-0.0129</td>\n",
       "      <td>0.0009</td>\n",
       "    </tr>\n",
       "    <tr>\n",
       "      <th>1997-05</th>\n",
       "      <td>0.0156</td>\n",
       "      <td>-0.0015</td>\n",
       "      <td>0.0233</td>\n",
       "      <td>0.0315</td>\n",
       "      <td>0.0189</td>\n",
       "      <td>0.0346</td>\n",
       "      <td>0.0118</td>\n",
       "      <td>0.0108</td>\n",
       "      <td>0.0394</td>\n",
       "      <td>0.0197</td>\n",
       "      <td>0.0173</td>\n",
       "      <td>-0.0737</td>\n",
       "      <td>0.0275</td>\n",
       "    </tr>\n",
       "  </tbody>\n",
       "</table>\n",
       "</div>"
      ],
      "text/plain": [
       "         Convertible Arbitrage  CTA Global  Distressed Securities  \\\n",
       "date                                                                \n",
       "1997-01                 0.0119      0.0393                 0.0178   \n",
       "1997-02                 0.0123      0.0298                 0.0122   \n",
       "1997-03                 0.0078     -0.0021                -0.0012   \n",
       "1997-04                 0.0086     -0.0170                 0.0030   \n",
       "1997-05                 0.0156     -0.0015                 0.0233   \n",
       "\n",
       "         Emerging Markets  Equity Market Neutral  Event Driven  \\\n",
       "date                                                             \n",
       "1997-01            0.0791                 0.0189        0.0213   \n",
       "1997-02            0.0525                 0.0101        0.0084   \n",
       "1997-03           -0.0120                 0.0016       -0.0023   \n",
       "1997-04            0.0119                 0.0119       -0.0005   \n",
       "1997-05            0.0315                 0.0189        0.0346   \n",
       "\n",
       "         Fixed Income Arbitrage  Global Macro  Long/Short Equity  \\\n",
       "date                                                               \n",
       "1997-01                  0.0191        0.0573             0.0281   \n",
       "1997-02                  0.0122        0.0175            -0.0006   \n",
       "1997-03                  0.0109       -0.0119            -0.0084   \n",
       "1997-04                  0.0130        0.0172             0.0084   \n",
       "1997-05                  0.0118        0.0108             0.0394   \n",
       "\n",
       "         Merger Arbitrage  Relative Value  Short Selling  Funds Of Funds  \n",
       "date                                                                      \n",
       "1997-01            0.0150          0.0180        -0.0166          0.0317  \n",
       "1997-02            0.0034          0.0118         0.0426          0.0106  \n",
       "1997-03            0.0060          0.0010         0.0778         -0.0077  \n",
       "1997-04           -0.0001          0.0122        -0.0129          0.0009  \n",
       "1997-05            0.0197          0.0173        -0.0737          0.0275  "
      ]
     },
     "execution_count": 18,
     "metadata": {},
     "output_type": "execute_result"
    }
   ],
   "source": [
    "data = pd.read_csv(\"data/edhec-hedgefundindices.csv\", index_col=0, header=0)\n",
    "data.index = pd.to_datetime(data.index, format=\"%d/%m/%Y\")\n",
    "data /= 100\n",
    "data.index = data.index.to_period(\"M\")\n",
    "data.head()"
   ]
  },
  {
   "cell_type": "markdown",
   "id": "28c73c39-1766-4655-ac6a-5005f52b590a",
   "metadata": {},
   "source": [
    "# Skewness"
   ]
  },
  {
   "cell_type": "code",
   "execution_count": 25,
   "id": "962da589-ab99-4c36-b504-e789ac55afb0",
   "metadata": {},
   "outputs": [
    {
     "data": {
      "text/plain": [
       "array([-2.63959223,  0.17369864, -1.30084204, -1.16706749, -2.12443538,\n",
       "       -1.40915356, -3.94032029,  0.98292188, -0.39022677, -1.32008333,\n",
       "       -1.81546975,  0.76797484, -0.36178308])"
      ]
     },
     "execution_count": 25,
     "metadata": {},
     "output_type": "execute_result"
    }
   ],
   "source": [
    "scipy.stats.skew(data, axis=0)"
   ]
  },
  {
   "cell_type": "code",
   "execution_count": 41,
   "id": "e5a68edc-de86-473d-b796-d2c138eac6e3",
   "metadata": {},
   "outputs": [],
   "source": [
    "def skewness_calc(data):\n",
    "    error = data - data.mean()\n",
    "    numerator = (error**3).mean()\n",
    "    volatility = data.std(ddof=0)\n",
    "    return numerator/volatility**3"
   ]
  },
  {
   "cell_type": "code",
   "execution_count": 42,
   "id": "3b5f2a43-40ac-42c1-bcf6-870000cbf48d",
   "metadata": {},
   "outputs": [
    {
     "data": {
      "text/plain": [
       "Convertible Arbitrage    -2.639592\n",
       "CTA Global                0.173699\n",
       "Distressed Securities    -1.300842\n",
       "Emerging Markets         -1.167067\n",
       "Equity Market Neutral    -2.124435\n",
       "Event Driven             -1.409154\n",
       "Fixed Income Arbitrage   -3.940320\n",
       "Global Macro              0.982922\n",
       "Long/Short Equity        -0.390227\n",
       "Merger Arbitrage         -1.320083\n",
       "Relative Value           -1.815470\n",
       "Short Selling             0.767975\n",
       "Funds Of Funds           -0.361783\n",
       "dtype: float64"
      ]
     },
     "execution_count": 42,
     "metadata": {},
     "output_type": "execute_result"
    }
   ],
   "source": [
    "S = skewness_calc(data)\n",
    "S"
   ]
  },
  {
   "cell_type": "code",
   "execution_count": 51,
   "id": "6cfcb763-21dc-4c6d-8235-0bcc8df0182b",
   "metadata": {},
   "outputs": [
    {
     "data": {
      "text/plain": [
       "array([-2.63959223,  0.17369864, -1.30084204, -1.16706749, -2.12443538,\n",
       "       -1.40915356, -3.94032029,  0.98292188, -0.39022677, -1.32008333,\n",
       "       -1.81546975,  0.76797484, -0.36178308])"
      ]
     },
     "execution_count": 51,
     "metadata": {},
     "output_type": "execute_result"
    }
   ],
   "source": [
    "scipy.stats.skew(data)"
   ]
  },
  {
   "cell_type": "markdown",
   "id": "cd1515a2-a80f-4519-8369-3c0f8e9e666b",
   "metadata": {},
   "source": [
    "# Kurtosis"
   ]
  },
  {
   "cell_type": "code",
   "execution_count": 36,
   "id": "e9e95c5a-91ab-46c6-86a6-c5a9398297a2",
   "metadata": {},
   "outputs": [],
   "source": [
    "def kurtosis_calc(data):\n",
    "    error = data - data.mean()\n",
    "    numerator = (error**4).mean()\n",
    "    volatility = data.std(ddof=0)\n",
    "    return numerator/volatility**4"
   ]
  },
  {
   "cell_type": "code",
   "execution_count": 47,
   "id": "98e51295-7f56-488f-af33-4a1add50edc7",
   "metadata": {},
   "outputs": [
    {
     "data": {
      "text/plain": [
       "Convertible Arbitrage     20.280834\n",
       "CTA Global                -0.047040\n",
       "Distressed Securities      4.889983\n",
       "Emerging Markets           6.250788\n",
       "Equity Market Neutral     14.218555\n",
       "Event Driven               5.035828\n",
       "Fixed Income Arbitrage    26.842199\n",
       "Global Macro               2.741679\n",
       "Long/Short Equity          1.523893\n",
       "Merger Arbitrage           5.738950\n",
       "Relative Value             9.121208\n",
       "Short Selling              3.117772\n",
       "Funds Of Funds             4.070153\n",
       "dtype: float64"
      ]
     },
     "execution_count": 47,
     "metadata": {},
     "output_type": "execute_result"
    }
   ],
   "source": [
    "K = kurtosis_calc(data)\n",
    "K-3"
   ]
  },
  {
   "cell_type": "code",
   "execution_count": 49,
   "id": "b08b1896-438b-435f-ba39-40343b445f12",
   "metadata": {},
   "outputs": [
    {
     "data": {
      "text/plain": [
       "array([20.28083446, -0.04703963,  4.88998336,  6.25078841, 14.21855526,\n",
       "        5.03582817, 26.84219928,  2.74167945,  1.52389258,  5.73894979,\n",
       "        9.12120787,  3.11777175,  4.07015278])"
      ]
     },
     "execution_count": 49,
     "metadata": {},
     "output_type": "execute_result"
    }
   ],
   "source": [
    "scipy.stats.kurtosis(data)"
   ]
  },
  {
   "cell_type": "code",
   "execution_count": 66,
   "id": "58eafc20-b66c-4458-9616-d1bfe084f9ed",
   "metadata": {},
   "outputs": [],
   "source": [
    "def jarque_bera(data):\n",
    "    return data.shape[0]/6 * (scipy.stats.skew(data)**2 + scipy.stats.kurtosis(data)**2/4)"
   ]
  },
  {
   "cell_type": "code",
   "execution_count": 67,
   "id": "c1b31a0f-f7d1-4c37-aae8-8e9947228d5c",
   "metadata": {},
   "outputs": [
    {
     "data": {
      "text/plain": [
       "array([4.81270313e+03, 1.34675291e+00, 3.36209308e+02, 4.87870938e+02,\n",
       "       2.41324654e+03, 3.64939023e+02, 8.57608107e+03, 1.24720604e+02,\n",
       "       3.21227799e+01, 4.37303521e+02, 1.05616586e+03, 1.32372745e+02,\n",
       "       1.87274537e+02])"
      ]
     },
     "execution_count": 67,
     "metadata": {},
     "output_type": "execute_result"
    }
   ],
   "source": [
    "jarque_bera(data)"
   ]
  },
  {
   "cell_type": "code",
   "execution_count": 69,
   "id": "866a259b-0fd6-4b70-a0ea-d5b884aab76d",
   "metadata": {},
   "outputs": [
    {
     "name": "stdout",
     "output_type": "stream",
     "text": [
      "SignificanceResult(statistic=4812.703130094965, pvalue=0.0)\n",
      "SignificanceResult(statistic=1.3467529104392222, pvalue=0.5099837302620385)\n",
      "SignificanceResult(statistic=336.20930824481775, pvalue=9.841840725316291e-74)\n",
      "SignificanceResult(statistic=487.8709377480285, pvalue=1.1486082399786032e-106)\n",
      "SignificanceResult(statistic=2413.2465386972963, pvalue=0.0)\n",
      "SignificanceResult(statistic=364.93902336794577, pvalue=5.681957226739911e-80)\n",
      "SignificanceResult(statistic=8576.081065712488, pvalue=0.0)\n",
      "SignificanceResult(statistic=124.7206041789982, pvalue=8.265419732658321e-28)\n",
      "SignificanceResult(statistic=32.122779928718174, pvalue=1.0583442796497859e-07)\n",
      "SignificanceResult(statistic=437.30352111953005, pvalue=1.0983656197368262e-95)\n",
      "SignificanceResult(statistic=1056.1658603513547, pvalue=4.53416622342139e-230)\n",
      "SignificanceResult(statistic=132.3727450854098, pvalue=1.801455869044465e-29)\n",
      "SignificanceResult(statistic=187.2745372802054, pvalue=2.1570038939194672e-41)\n"
     ]
    }
   ],
   "source": [
    "for i in data.columns:\n",
    "    print(scipy.stats.jarque_bera(data[i]))"
   ]
  },
  {
   "cell_type": "markdown",
   "id": "d90f4900-8409-427c-beb3-5795e133ca59",
   "metadata": {},
   "source": [
    "Or we can use the aggregate function"
   ]
  },
  {
   "cell_type": "code",
   "execution_count": 72,
   "id": "4f7d4d4a-9a04-4570-871d-ef3ffba8ec7c",
   "metadata": {},
   "outputs": [
    {
     "data": {
      "text/html": [
       "<div>\n",
       "<style scoped>\n",
       "    .dataframe tbody tr th:only-of-type {\n",
       "        vertical-align: middle;\n",
       "    }\n",
       "\n",
       "    .dataframe tbody tr th {\n",
       "        vertical-align: top;\n",
       "    }\n",
       "\n",
       "    .dataframe thead th {\n",
       "        text-align: right;\n",
       "    }\n",
       "</style>\n",
       "<table border=\"1\" class=\"dataframe\">\n",
       "  <thead>\n",
       "    <tr style=\"text-align: right;\">\n",
       "      <th></th>\n",
       "      <th>Convertible Arbitrage</th>\n",
       "      <th>CTA Global</th>\n",
       "      <th>Distressed Securities</th>\n",
       "      <th>Emerging Markets</th>\n",
       "      <th>Equity Market Neutral</th>\n",
       "      <th>Event Driven</th>\n",
       "      <th>Fixed Income Arbitrage</th>\n",
       "      <th>Global Macro</th>\n",
       "      <th>Long/Short Equity</th>\n",
       "      <th>Merger Arbitrage</th>\n",
       "      <th>Relative Value</th>\n",
       "      <th>Short Selling</th>\n",
       "      <th>Funds Of Funds</th>\n",
       "    </tr>\n",
       "  </thead>\n",
       "  <tbody>\n",
       "    <tr>\n",
       "      <th>0</th>\n",
       "      <td>4812.70313</td>\n",
       "      <td>1.346753</td>\n",
       "      <td>3.362093e+02</td>\n",
       "      <td>4.878709e+02</td>\n",
       "      <td>2413.246539</td>\n",
       "      <td>3.649390e+02</td>\n",
       "      <td>8576.081066</td>\n",
       "      <td>1.247206e+02</td>\n",
       "      <td>3.212278e+01</td>\n",
       "      <td>4.373035e+02</td>\n",
       "      <td>1.056166e+03</td>\n",
       "      <td>1.323727e+02</td>\n",
       "      <td>1.872745e+02</td>\n",
       "    </tr>\n",
       "    <tr>\n",
       "      <th>1</th>\n",
       "      <td>0.00000</td>\n",
       "      <td>0.509984</td>\n",
       "      <td>9.841841e-74</td>\n",
       "      <td>1.148608e-106</td>\n",
       "      <td>0.000000</td>\n",
       "      <td>5.681957e-80</td>\n",
       "      <td>0.000000</td>\n",
       "      <td>8.265420e-28</td>\n",
       "      <td>1.058344e-07</td>\n",
       "      <td>1.098366e-95</td>\n",
       "      <td>4.534166e-230</td>\n",
       "      <td>1.801456e-29</td>\n",
       "      <td>2.157004e-41</td>\n",
       "    </tr>\n",
       "  </tbody>\n",
       "</table>\n",
       "</div>"
      ],
      "text/plain": [
       "   Convertible Arbitrage  CTA Global  Distressed Securities  Emerging Markets  \\\n",
       "0             4812.70313    1.346753           3.362093e+02      4.878709e+02   \n",
       "1                0.00000    0.509984           9.841841e-74     1.148608e-106   \n",
       "\n",
       "   Equity Market Neutral  Event Driven  Fixed Income Arbitrage  Global Macro  \\\n",
       "0            2413.246539  3.649390e+02             8576.081066  1.247206e+02   \n",
       "1               0.000000  5.681957e-80                0.000000  8.265420e-28   \n",
       "\n",
       "   Long/Short Equity  Merger Arbitrage  Relative Value  Short Selling  \\\n",
       "0       3.212278e+01      4.373035e+02    1.056166e+03   1.323727e+02   \n",
       "1       1.058344e-07      1.098366e-95   4.534166e-230   1.801456e-29   \n",
       "\n",
       "   Funds Of Funds  \n",
       "0    1.872745e+02  \n",
       "1    2.157004e-41  "
      ]
     },
     "execution_count": 72,
     "metadata": {},
     "output_type": "execute_result"
    }
   ],
   "source": [
    "data.aggregate(scipy.stats.jarque_bera)"
   ]
  },
  {
   "cell_type": "code",
   "execution_count": null,
   "id": "0bb2054e-77df-49dd-a817-fb7dc1a7d203",
   "metadata": {},
   "outputs": [],
   "source": []
  }
 ],
 "metadata": {
  "kernelspec": {
   "display_name": "Python 3 (ipykernel)",
   "language": "python",
   "name": "python3"
  },
  "language_info": {
   "codemirror_mode": {
    "name": "ipython",
    "version": 3
   },
   "file_extension": ".py",
   "mimetype": "text/x-python",
   "name": "python",
   "nbconvert_exporter": "python",
   "pygments_lexer": "ipython3",
   "version": "3.11.1"
  }
 },
 "nbformat": 4,
 "nbformat_minor": 5
}
